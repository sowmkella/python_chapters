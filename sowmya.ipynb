{
  "nbformat": 4,
  "nbformat_minor": 0,
  "metadata": {
    "colab": {
      "provenance": [],
      "include_colab_link": true
    },
    "kernelspec": {
      "name": "python3",
      "display_name": "Python 3"
    },
    "language_info": {
      "name": "python"
    }
  },
  "cells": [
    {
      "cell_type": "markdown",
      "metadata": {
        "id": "view-in-github",
        "colab_type": "text"
      },
      "source": [
        "<a href=\"https://colab.research.google.com/github/sowmkella/python_chapters/blob/main/sowmya.ipynb\" target=\"_parent\"><img src=\"https://colab.research.google.com/assets/colab-badge.svg\" alt=\"Open In Colab\"/></a>"
      ]
    },
    {
      "cell_type": "code",
      "execution_count": null,
      "metadata": {
        "id": "nE31oB9VNpqS",
        "colab": {
          "base_uri": "https://localhost:8080/"
        },
        "outputId": "f5f66f9c-6759-4fa6-f3ea-d08ccdcc915a"
      },
      "outputs": [
        {
          "output_type": "stream",
          "name": "stdout",
          "text": [
            "hh\n"
          ]
        }
      ],
      "source": [
        "print(\"hh\")"
      ]
    },
    {
      "cell_type": "code",
      "source": [
        "a= 30\n",
        "b = 90\n",
        "c = 0\n",
        "d = 70\n",
        "\n",
        "score = 35\n",
        "if (a >= score & b >=score & c >= score & d >= score):\n",
        "      print(\"All students have passed!\")   \n",
        "else:\n",
        "      print(\"Failed\")"
      ],
      "metadata": {
        "colab": {
          "base_uri": "https://localhost:8080/"
        },
        "id": "PhUnSU4ucRe7",
        "outputId": "2677722e-59e6-4878-af6d-19e13abdd41f"
      },
      "execution_count": null,
      "outputs": [
        {
          "output_type": "stream",
          "name": "stdout",
          "text": [
            "Failed\n"
          ]
        }
      ]
    },
    {
      "cell_type": "code",
      "source": [
        "print(\"hi\")"
      ],
      "metadata": {
        "colab": {
          "base_uri": "https://localhost:8080/"
        },
        "id": "VJk_33ArOoEI",
        "outputId": "814eb832-9723-407e-a525-cc08e68cbe83"
      },
      "execution_count": null,
      "outputs": [
        {
          "output_type": "stream",
          "name": "stdout",
          "text": [
            "hi\n"
          ]
        }
      ]
    },
    {
      "cell_type": "markdown",
      "source": [],
      "metadata": {
        "id": "5Lffh1r9hUu9"
      }
    },
    {
      "cell_type": "code",
      "source": [
        "print(\"hello\")"
      ],
      "metadata": {
        "id": "9K-dyo8Xb0Fh",
        "colab": {
          "base_uri": "https://localhost:8080/"
        },
        "outputId": "80f8867b-4b5a-4b0f-f5f9-79638c53ad53"
      },
      "execution_count": null,
      "outputs": [
        {
          "output_type": "stream",
          "name": "stdout",
          "text": [
            "hello\n"
          ]
        }
      ]
    },
    {
      "cell_type": "code",
      "source": [],
      "metadata": {
        "id": "B_0lhpA2hP7l"
      },
      "execution_count": null,
      "outputs": []
    },
    {
      "cell_type": "markdown",
      "source": [
        "I test 15-03-23\n"
      ],
      "metadata": {
        "id": "Zf5WchbfhVne"
      }
    },
    {
      "cell_type": "code",
      "source": [
        "\n",
        "# To reverse words in a given string\n",
        "\n",
        "# input string\n",
        "string = \"geeks quiz practice code\"\n",
        "# reversing words in a given string\n",
        "s = string.split()[::-1]\n",
        "l = []\n",
        "for i in s:\n",
        "\t# apending reversed words to l\n",
        "\tl.append(i)\n",
        "# printing reverse words\n",
        "print(\" \".join(l))\n"
      ],
      "metadata": {
        "colab": {
          "base_uri": "https://localhost:8080/"
        },
        "id": "ltuIlYFphf6e",
        "outputId": "02ddd395-6797-4037-9c83-a743f39fa62c"
      },
      "execution_count": 1,
      "outputs": [
        {
          "output_type": "stream",
          "name": "stdout",
          "text": [
            "code practice quiz geeks\n"
          ]
        }
      ]
    },
    {
      "cell_type": "code",
      "source": [
        "#To find factorial of a number\n",
        "num = int(input(\"Enter a number: \"))   # Taking input from user\n",
        "\n",
        "factorial = 1   # Initializing factorial to 1\n",
        "\n",
        "# If the number is negative, print an error message\n",
        "if num < 0:\n",
        "    print(\"Factorial does not exist for negative numbers\")\n",
        "elif num == 0:   # If the number is 0, the factorial is 1\n",
        "    print(\"The factorial of 0 is 1\")\n",
        "else:   # For positive numbers, calculate the factorial\n",
        "    for i in range(1, num + 1):\n",
        "        factorial = factorial * i   # Multiply factorial with each number from 1 to num\n",
        "    print(\"The factorial of\", num, \"is\", factorial)\n"
      ],
      "metadata": {
        "colab": {
          "base_uri": "https://localhost:8080/"
        },
        "id": "C4KPtqLekV3A",
        "outputId": "c344c4a7-7eff-4ea9-aad2-b84af4c2f3f2"
      },
      "execution_count": 2,
      "outputs": [
        {
          "output_type": "stream",
          "name": "stdout",
          "text": [
            "Enter a number: 5\n",
            "The factorial of 5 is 120\n"
          ]
        }
      ]
    },
    {
      "cell_type": "code",
      "source": [
        "# To reverse a given number\n",
        "def reverse_number(num):\n",
        "    reverse_num = 0\n",
        "    while num > 0:\n",
        "        remainder = num % 10\n",
        "        reverse_num = reverse_num * 10 + remainder\n",
        "        num = num // 10\n",
        "    return reverse_num\n",
        "\n",
        "# Example usage\n",
        "input_num = 3456\n",
        "output_num = reverse_number(input_num)\n",
        "print(output_num)\n"
      ],
      "metadata": {
        "colab": {
          "base_uri": "https://localhost:8080/"
        },
        "id": "9Hg5euGulRF9",
        "outputId": "fc4d6683-4e6c-4739-fa16-02772a84cca1"
      },
      "execution_count": 5,
      "outputs": [
        {
          "output_type": "stream",
          "name": "stdout",
          "text": [
            "6543\n"
          ]
        }
      ]
    },
    {
      "cell_type": "code",
      "source": [
        "#To calculate Simple Interest\n",
        "# Taking input from user\n",
        "principal = float(input(\"Enter the principal amount: \"))\n",
        "rate = float(input(\"Enter the annual interest rate: \"))\n",
        "time = float(input(\"Enter the time (in years): \"))\n",
        "\n",
        "# Calculating simple interest\n",
        "simple_interest = (principal * rate * time) / 100\n",
        "\n",
        "# Printing the result\n",
        "print(\"Simple interest = \", simple_interest)\n"
      ],
      "metadata": {
        "colab": {
          "base_uri": "https://localhost:8080/"
        },
        "id": "slYtXiyqmGoq",
        "outputId": "99169baf-98ff-47e1-8b4f-0013cdc63364"
      },
      "execution_count": 6,
      "outputs": [
        {
          "output_type": "stream",
          "name": "stdout",
          "text": [
            "Enter the principal amount: 10000\n",
            "Enter the annual interest rate: 2\n",
            "Enter the time (in years): 3\n",
            "Simple interest =  600.0\n"
          ]
        }
      ]
    },
    {
      "cell_type": "code",
      "source": [
        "# To Find smallest number in a given list\n",
        "# Taking input from user\n",
        "num_list = list(map(int, input(\"Enter a list of numbers separated by space: \").split()))\n",
        "\n",
        "# Initializing the smallest number to the first element of the list\n",
        "smallest = num_list[0]\n",
        "\n",
        "# Looping through the list to find the smallest number\n",
        "for num in num_list:\n",
        "    if num < smallest:\n",
        "        smallest = num\n",
        "\n",
        "# Printing the result\n",
        "print(\"The smallest number in the list is\", smallest)\n"
      ],
      "metadata": {
        "colab": {
          "base_uri": "https://localhost:8080/"
        },
        "id": "GqyGpG2ym25t",
        "outputId": "1aef8977-741c-47dc-8422-11f45eab1e7d"
      },
      "execution_count": 7,
      "outputs": [
        {
          "output_type": "stream",
          "name": "stdout",
          "text": [
            "Enter a list of numbers separated by space: 23 45 1 6 67 76 54 33 88 11 22\n",
            "The smallest number in the list is 1\n"
          ]
        }
      ]
    },
    {
      "cell_type": "code",
      "source": [
        "#program to check if a string is a palindrome or not:\n",
        "# Taking input from user\n",
        "string = input(\"Enter a string: \")\n",
        "\n",
        "# Reversing the string\n",
        "reverse_string = string[::-1]\n",
        "\n",
        "# Comparing the original and reversed strings\n",
        "if string == reverse_string:\n",
        "    print(\"The string is a palindrome\")\n",
        "else:\n",
        "    print(\"The string is not a palindrome\")\n"
      ],
      "metadata": {
        "colab": {
          "base_uri": "https://localhost:8080/"
        },
        "id": "cMjKdHOlnt9O",
        "outputId": "433f79dd-872f-4432-85b8-56c978679c55"
      },
      "execution_count": 9,
      "outputs": [
        {
          "output_type": "stream",
          "name": "stdout",
          "text": [
            "Enter a string: gadag\n",
            "The string is a palindrome\n"
          ]
        }
      ]
    },
    {
      "cell_type": "code",
      "source": [
        "# To convert a decimal number to binary number\n",
        "def decimal_to_binary(num):\n",
        "    binary = ''\n",
        "    if num == 0:\n",
        "        return '0'\n",
        "    while num > 0:\n",
        "        binary = str(num % 2) + binary\n",
        "        num = num // 2\n",
        "    return binary\n",
        "# Example usage\n",
        "input_num = 20\n",
        "output_str = decimal_to_binary(input_num)\n",
        "print(output_str)\n",
        "\n"
      ],
      "metadata": {
        "colab": {
          "base_uri": "https://localhost:8080/"
        },
        "id": "BoFQUldjpiDu",
        "outputId": "034126b9-5362-4242-95a9-de1cd7cc4130"
      },
      "execution_count": 16,
      "outputs": [
        {
          "output_type": "stream",
          "name": "stdout",
          "text": [
            "10100\n"
          ]
        }
      ]
    },
    {
      "cell_type": "code",
      "source": [
        "# Program code to remove duplicate elements\n",
        "def Remove(duplicate):\n",
        "\tfinal_list = []\n",
        "\tfor num in duplicate:\n",
        "\t\tif num not in final_list:\n",
        "\t\t\tfinal_list.append(num)\n",
        "\treturn final_list\n",
        "\t\n",
        "# Driver Code\n",
        "duplicate = [2, 4, 10, 20, 5, 2, 20, 4]\n",
        "print(Remove(duplicate))\n"
      ],
      "metadata": {
        "colab": {
          "base_uri": "https://localhost:8080/"
        },
        "id": "MwL4TfxqqgtC",
        "outputId": "c7ddf093-2a10-4b22-9ef3-8c8f273745bd"
      },
      "execution_count": 17,
      "outputs": [
        {
          "output_type": "stream",
          "name": "stdout",
          "text": [
            "[2, 4, 10, 20, 5]\n"
          ]
        }
      ]
    }
  ]
}