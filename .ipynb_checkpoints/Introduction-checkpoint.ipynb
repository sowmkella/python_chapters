{
 "cells": [
  {
   "cell_type": "markdown",
   "id": "77f770ce",
   "metadata": {},
   "source": [
    "Writing Headings and sub Headings"
   ]
  },
  {
   "cell_type": "markdown",
   "id": "cebc6405",
   "metadata": {},
   "source": [
    "# Title\n",
    "## Sub title\n",
    "### SUb Sub title\n",
    "#### Sub Sub Sub title"
   ]
  },
  {
   "cell_type": "markdown",
   "id": "70ffd07e",
   "metadata": {},
   "source": [
    "# Writing Python code"
   ]
  },
  {
   "cell_type": "code",
   "execution_count": 2,
   "id": "920204b3",
   "metadata": {},
   "outputs": [
    {
     "name": "stdout",
     "output_type": "stream",
     "text": [
      "2\n",
      "4\n",
      "6\n",
      "8\n"
     ]
    }
   ],
   "source": [
    "n=10\n",
    "for i in range (1,10):#  hash is used to writr comments\n",
    "    if i%2==0:\n",
    "        print(i)\n",
    "        "
   ]
  },
  {
   "cell_type": "markdown",
   "id": "2fc1058a",
   "metadata": {},
   "source": [
    "We can download this notebook as PDF,HTML or Ipython notebook "
   ]
  },
  {
   "cell_type": "code",
   "execution_count": null,
   "id": "e155c905",
   "metadata": {},
   "outputs": [],
   "source": []
  }
 ],
 "metadata": {
  "kernelspec": {
   "display_name": "Python 3 (ipykernel)",
   "language": "python",
   "name": "python3"
  },
  "language_info": {
   "codemirror_mode": {
    "name": "ipython",
    "version": 3
   },
   "file_extension": ".py",
   "mimetype": "text/x-python",
   "name": "python",
   "nbconvert_exporter": "python",
   "pygments_lexer": "ipython3",
   "version": "3.9.13"
  }
 },
 "nbformat": 4,
 "nbformat_minor": 5
}
